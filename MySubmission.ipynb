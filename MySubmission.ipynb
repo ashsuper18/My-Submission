{
 "cells": [
  {
   "cell_type": "markdown",
   "id": "5dd37575-9891-4dba-85a4-1731946dd87c",
   "metadata": {},
   "source": [
    "# My Jupyter Notebook on IBM Watson Studio"
   ]
  },
  {
   "cell_type": "markdown",
   "id": "5074d8ee-cbc7-4663-b182-ebab7767c8a8",
   "metadata": {},
   "source": [
    "**Ashish Kumar** Data Scientist"
   ]
  },
  {
   "cell_type": "markdown",
   "id": "4569a69a-be4a-4f8d-ae34-0401595916cc",
   "metadata": {},
   "source": [
    "_I am interested in data science because i like working with data and get best out of it and make beautiful dashboards_"
   ]
  },
  {
   "cell_type": "markdown",
   "id": "7bd9d1c0-911d-469b-ae03-0b881289226f",
   "metadata": {},
   "source": [
    "### This is H3 heading below code is supposed to say hello to you"
   ]
  },
  {
   "cell_type": "code",
   "execution_count": 8,
   "id": "6445486c-857d-4a69-b601-5d575e6c95af",
   "metadata": {},
   "outputs": [
    {
     "name": "stdout",
     "output_type": "stream",
     "text": [
      "Hello\n"
     ]
    }
   ],
   "source": [
    "print(\"Hello\")"
   ]
  },
  {
   "cell_type": "markdown",
   "id": "d5908996-2a00-47c0-8cc7-e80bec1771b1",
   "metadata": {},
   "source": [
    "- Item 1\n",
    "\n",
    "* Item 2\n",
    "* Item 3\n",
    "  - Nested Item 1\n",
    "  - Nested Item 2\n",
    "\n",
    "<!-- OL use: 1. 1. 1. -->\n",
    "\n",
    "1. Item 1\n",
    "1. Item 2\n",
    "1. Item 3\n",
    "\n",
    "<!-- Inline Code Block use : '' -->\n",
    "\n",
    "`<p>This is a paragraph</p>`\n",
    "\n",
    "<!-- Images use: ![text](link) -->\n",
    "\n",
    "![Random Logo](https://image.shutterstock.com/image-vector/free-logo-simple-illustration-vector-260nw-776460778.jpg)"
   ]
  },
  {
   "cell_type": "code",
   "execution_count": null,
   "id": "164fcb94-c35b-41b6-81ec-8904508c39f8",
   "metadata": {},
   "outputs": [],
   "source": []
  },
  {
   "cell_type": "code",
   "execution_count": null,
   "id": "0e9daf1f-18a4-4c66-a512-6c4212b45c08",
   "metadata": {},
   "outputs": [],
   "source": []
  }
 ],
 "metadata": {
  "kernelspec": {
   "display_name": "Python",
   "language": "python",
   "name": "conda-env-python-py"
  },
  "language_info": {
   "codemirror_mode": {
    "name": "ipython",
    "version": 3
   },
   "file_extension": ".py",
   "mimetype": "text/x-python",
   "name": "python",
   "nbconvert_exporter": "python",
   "pygments_lexer": "ipython3",
   "version": "3.7.12"
  }
 },
 "nbformat": 4,
 "nbformat_minor": 5
}
